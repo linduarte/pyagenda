{
 "cells": [
  {
   "cell_type": "markdown",
   "metadata": {},
   "source": [
    "#### Program to Divide Two Numbers\n"
   ]
  },
  {
   "cell_type": "code",
   "execution_count": 1,
   "metadata": {},
   "outputs": [
    {
     "name": "stdout",
     "output_type": "stream",
     "text": [
      "The division of 10 and 2 is 5.0\n"
     ]
    }
   ],
   "source": [
    "# Python program to divide two numbers\n",
    "\n",
    "# take inputs\n",
    "num1 = 10\n",
    "num2 = 2\n",
    "\n",
    "# Divide numbers\n",
    "division = num1/num2\n",
    "\n",
    "# print value\n",
    "print(\"The division of {0} and {1} is {2}\"\n",
    "               .format(num1,num2,division))"
   ]
  },
  {
   "cell_type": "code",
   "execution_count": 2,
   "metadata": {},
   "outputs": [
    {
     "name": "stdout",
     "output_type": "stream",
     "text": [
      "The division of 32.8 and 21.3 is 1.5399061032863848\n"
     ]
    }
   ],
   "source": [
    "# Python program to divide two numbers\n",
    "\n",
    "# take inputs\n",
    "num1 = float(input('Enter first number: '))\n",
    "num2 = float(input('Enter second number: '))\n",
    "\n",
    "# Divide numbers\n",
    "division = num1/num2\n",
    "\n",
    "# print value\n",
    "print(\"The division of {0} and {1} is {2}\"\n",
    "                .format(num1,num2,division))"
   ]
  },
  {
   "cell_type": "code",
   "execution_count": 3,
   "metadata": {},
   "outputs": [
    {
     "name": "stdout",
     "output_type": "stream",
     "text": [
      "The division of 15.3 and 12.7 is 1.204724409448819\n"
     ]
    }
   ],
   "source": [
    "# Python program to divide two numbers using function\n",
    "\n",
    "def div_Num(num1, num2):  #user-defined function\n",
    "    div = (num1/num2)   #divide numbers\n",
    "    return div   #return value\n",
    "\n",
    "# take inputs\n",
    "num1 = float(input('Enter first number: '))\n",
    "num2 = float(input('Enter second number: '))\n",
    "\n",
    "# function call\n",
    "division = div_Num(num1, num2)\n",
    "\n",
    "# print value\n",
    "print(\"The division of {0} and {1} is {2}\"\n",
    "                .format(num1,num2,division))"
   ]
  },
  {
   "cell_type": "code",
   "execution_count": 4,
   "metadata": {},
   "outputs": [
    {
     "name": "stdout",
     "output_type": "stream",
     "text": [
      "The division of 30 and 15 is 2\n"
     ]
    }
   ],
   "source": [
    "# Python program to divide two numbers using recursion\n",
    "\n",
    "def div_Num(x,y): #user-defined function\n",
    "    if (y==0):\n",
    "        return 0;\n",
    "    elif (x-y==0):\n",
    "        return 1;\n",
    "    elif (x<y):\n",
    "        return 0;\n",
    "    else:\n",
    "        return (1+div_Num(x-y,y));\n",
    "\n",
    "# take inputs\n",
    "num1 = int(input('Enter first number: '))\n",
    "num2 = int(input('Enter second number: '))\n",
    "\n",
    "# function call\n",
    "division = div_Num(num1, num2)\n",
    "\n",
    "# print value\n",
    "print(\"The division of {0} and {1} is {2}\"\n",
    "               .format(num1,num2,division))"
   ]
  }
 ],
 "metadata": {
  "kernelspec": {
   "display_name": "knl_pythagen",
   "language": "python",
   "name": "knl_pythagen"
  },
  "language_info": {
   "codemirror_mode": {
    "name": "ipython",
    "version": 3
   },
   "file_extension": ".py",
   "mimetype": "text/x-python",
   "name": "python",
   "nbconvert_exporter": "python",
   "pygments_lexer": "ipython3",
   "version": "3.12.0"
  }
 },
 "nbformat": 4,
 "nbformat_minor": 2
}
