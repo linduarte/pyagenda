{
 "cells": [
  {
   "cell_type": "markdown",
   "metadata": {},
   "source": [
    "#### Python Program to Subtract Two Numbers"
   ]
  },
  {
   "cell_type": "code",
   "execution_count": 1,
   "metadata": {},
   "outputs": [
    {
     "name": "stdout",
     "output_type": "stream",
     "text": [
      "The subtraction of numbers = 3\n"
     ]
    }
   ],
   "source": [
    "# Python program to subtract two numbers\n",
    "\n",
    "# take inputs\n",
    "num1 = 10\n",
    "num2 = 7\n",
    "\n",
    "# subtract two numbers\n",
    "sub = num1 - num2\n",
    "\n",
    "# print the subtraction result\n",
    "print('The subtraction of numbers =', sub)"
   ]
  },
  {
   "cell_type": "code",
   "execution_count": 2,
   "metadata": {},
   "outputs": [
    {
     "name": "stdout",
     "output_type": "stream",
     "text": [
      "The subtraction of numbers = 28.00\n"
     ]
    }
   ],
   "source": [
    "# Python program to subtract two numbers\n",
    "\n",
    "# take inputs\n",
    "num1 = float(input('Enter first number: '))\n",
    "num2 = float(input('Enter second number: '))\n",
    "\n",
    "# subtract two numbers\n",
    "sub = num1 - num2\n",
    "\n",
    "# print the subtraction result\n",
    "# value will print in float\n",
    "print('The subtraction of numbers = %0.2f' %sub)"
   ]
  },
  {
   "cell_type": "code",
   "execution_count": 3,
   "metadata": {},
   "outputs": [
    {
     "name": "stdout",
     "output_type": "stream",
     "text": [
      "The subtraction of numbers = 24.00\n"
     ]
    }
   ],
   "source": [
    "# Python program to subtract two numbers\n",
    "\n",
    "def sub_num(num1, num2):  #user-defined function\n",
    "    #subtract two numbers\n",
    "    return num1-num2\n",
    "    \n",
    "# take inputs\n",
    "num1 = float(input('Enter first number: '))\n",
    "num2 = float(input('Enter second number: '))\n",
    "\n",
    "# calling function and print the subtraction value\n",
    "print('The subtraction of numbers = %0.2f' %sub_num(num1, num2))"
   ]
  },
  {
   "cell_type": "code",
   "execution_count": null,
   "metadata": {},
   "outputs": [],
   "source": [
    "pip install numpy\n"
   ]
  },
  {
   "cell_type": "code",
   "execution_count": 6,
   "metadata": {},
   "outputs": [
    {
     "name": "stdout",
     "output_type": "stream",
     "text": [
      "The subtraction of numbers = 12.30\n"
     ]
    }
   ],
   "source": [
    "# Python program to subtract two numbers\n",
    "\n",
    "#importing numpy.subtract() function\n",
    "import numpy as np\n",
    "\n",
    "# take inputs\n",
    "num1 = float(input('Enter first number: '))\n",
    "num2 = float(input('Enter second number: '))\n",
    "\n",
    "# subtract two numbers\n",
    "sub = np.subtract(num1, num2)\n",
    "\n",
    "# print the subtraction result\n",
    "# value will print in float\n",
    "print('The subtraction of numbers = %0.2f' %sub)"
   ]
  },
  {
   "cell_type": "code",
   "execution_count": 8,
   "metadata": {},
   "outputs": [
    {
     "name": "stdout",
     "output_type": "stream",
     "text": [
      "The subtract of numbers 32 and 13 is 19\n"
     ]
    }
   ],
   "source": [
    "# Python program to subtract two numbers\n",
    "\n",
    "def subtract_num(a,b):   #user-defined function\n",
    "   if (b == 0):\n",
    "      return a\n",
    "   return subtract_num(a ^ b, (~a & b) << 1)\n",
    "\n",
    "# take inputs\n",
    "num1 = int(input('Enter first number: '))\n",
    "num2 = int(input('Enter second number: '))\n",
    "\n",
    "# calling function\n",
    "subtract = subtract_num(num1, num2)\n",
    "\n",
    "# print subtract of numbers\n",
    "print('The subtract of numbers {0} and {1} is {2}'\n",
    "                       .format(num1, num2, subtract))"
   ]
  }
 ],
 "metadata": {
  "kernelspec": {
   "display_name": "knl_pythagen",
   "language": "python",
   "name": "knl_pythagen"
  },
  "language_info": {
   "codemirror_mode": {
    "name": "ipython",
    "version": 3
   },
   "file_extension": ".py",
   "mimetype": "text/x-python",
   "name": "python",
   "nbconvert_exporter": "python",
   "pygments_lexer": "ipython3",
   "version": "3.12.0"
  }
 },
 "nbformat": 4,
 "nbformat_minor": 2
}
