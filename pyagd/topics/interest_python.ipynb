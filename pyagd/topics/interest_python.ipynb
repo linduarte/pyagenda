{
 "cells": [
  {
   "cell_type": "markdown",
   "metadata": {},
   "source": [
    "#### Program to Calculate Simple Interest"
   ]
  },
  {
   "cell_type": "code",
   "execution_count": 1,
   "metadata": {},
   "outputs": [
    {
     "name": "stdout",
     "output_type": "stream",
     "text": [
      "Simple interest =  125.0\n",
      "Total amount =  1125.0\n"
     ]
    }
   ],
   "source": [
    "# Python program to calculate simple interest\n",
    "\n",
    "# store the inputs\n",
    "P = float(input('Enter principal amount: '))\n",
    "R = float(input('Enter the interest rate: '))\n",
    "T = float(input('Enter time: '))\n",
    "\n",
    "# calculate simple interest\n",
    "SI = (P * R * T) / 100\n",
    "\n",
    "# display result\n",
    "print('Simple interest = ',SI )\n",
    "print('Total amount = ',( P + SI ))"
   ]
  },
  {
   "cell_type": "code",
   "execution_count": 2,
   "metadata": {},
   "outputs": [
    {
     "name": "stdout",
     "output_type": "stream",
     "text": [
      "Simple interest = 78.00\n",
      "Total amount = 728.00\n"
     ]
    }
   ],
   "source": [
    "# Python program to calculate simple interest using function\n",
    "\n",
    "def calculate_simple_interest(P, R, T):\n",
    "    # calculate simple interest\n",
    "    SI = (P * R * T) / 100\n",
    "    return SI;\n",
    "\n",
    "if __name__ == '__main__':\n",
    "    # store the inputs\n",
    "    P = float(input('Enter principal amount: '))\n",
    "    R = float(input('Enter the interest rate: '))\n",
    "    T = float(input('Enter time: '))\n",
    "\n",
    "    # calling function\n",
    "    simple_interest = calculate_simple_interest(P, R, T)\n",
    "    # display result\n",
    "    print('Simple interest = %.2f' %simple_interest)\n",
    "    print('Total amount = %.2f' %(P + simple_interest))"
   ]
  }
 ],
 "metadata": {
  "kernelspec": {
   "display_name": "knl_pythagen",
   "language": "python",
   "name": "knl_pythagen"
  },
  "language_info": {
   "codemirror_mode": {
    "name": "ipython",
    "version": 3
   },
   "file_extension": ".py",
   "mimetype": "text/x-python",
   "name": "python",
   "nbconvert_exporter": "python",
   "pygments_lexer": "ipython3",
   "version": "3.12.0"
  }
 },
 "nbformat": 4,
 "nbformat_minor": 2
}
