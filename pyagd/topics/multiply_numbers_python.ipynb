{
 "cells": [
  {
   "cell_type": "markdown",
   "metadata": {},
   "source": [
    "#### Program for Multiplication of Two Numbers"
   ]
  },
  {
   "cell_type": "code",
   "execution_count": 1,
   "metadata": {},
   "outputs": [
    {
     "name": "stdout",
     "output_type": "stream",
     "text": [
      "The Product of Number: 15\n"
     ]
    }
   ],
   "source": [
    "# Python program to multiply two number\n",
    "\n",
    "# take inputs\n",
    "num1 = 3\n",
    "num2 = 5\n",
    "\n",
    "# calculate product\n",
    "product = num1*num2\n",
    "\n",
    "# print multiplication value\n",
    "print(\"The Product of Number:\", product)"
   ]
  },
  {
   "cell_type": "code",
   "execution_count": 2,
   "metadata": {},
   "outputs": [
    {
     "name": "stdout",
     "output_type": "stream",
     "text": [
      "The Product of Number: 300.00\n"
     ]
    }
   ],
   "source": [
    "# Python program to multiply two number\n",
    "\n",
    "# take inputs\n",
    "num1 = float(input('Enter first number: '))\n",
    "num2 = float(input('Enter second number: '))\n",
    "\n",
    "# calculate product\n",
    "product = num1*num2\n",
    "\n",
    "# print multiplication value\n",
    "print(\"The Product of Number: %0.2f\" %product)"
   ]
  },
  {
   "cell_type": "code",
   "execution_count": 3,
   "metadata": {},
   "outputs": [
    {
     "name": "stdout",
     "output_type": "stream",
     "text": [
      "The Product of Number: 1395.00\n"
     ]
    }
   ],
   "source": [
    "# Python program to multiply two numbers using function\n",
    "\n",
    "def product_num(num1, num2):  #user-defind function\n",
    "    num = (num1 * num2)   #calculate product\n",
    "    return num   #return value\n",
    "\n",
    "# take inputs\n",
    "num1 = float(input('Enter first number: '))\n",
    "num2 = float(input('Enter second number: '))\n",
    "\n",
    "# function call\n",
    "product = product_num(num1, num2)\n",
    "\n",
    "# print multiplication value\n",
    "print(\"The Product of Number: %0.2f\" %product)"
   ]
  },
  {
   "cell_type": "code",
   "execution_count": 4,
   "metadata": {},
   "outputs": [
    {
     "name": "stdout",
     "output_type": "stream",
     "text": [
      "The Product of Number: 252\n"
     ]
    }
   ],
   "source": [
    "# Python program to multiply two number using recursion\n",
    "\n",
    "def product_num(num1,num2):   #user-defined function\n",
    "    if(num1<num2):\n",
    "        return product_num(num2,num1)\n",
    "    elif(num2!=0):\n",
    "         return(num1+product_num(num1,num2-1))\n",
    "    else:\n",
    "         return 0\n",
    "\n",
    "# take inputs\n",
    "num1 = int(input('Enter first number: '))\n",
    "num2 = int(input('Enter second number: '))\n",
    "\n",
    "# function call\n",
    "product = product_num(num1, num2)\n",
    "\n",
    "# print multiplication value\n",
    "print(\"The Product of Number:\", product)"
   ]
  },
  {
   "cell_type": "code",
   "execution_count": 5,
   "metadata": {},
   "outputs": [
    {
     "name": "stdout",
     "output_type": "stream",
     "text": [
      "The Product of Number: 56\n"
     ]
    }
   ],
   "source": [
    "# Python program to multiply two number using for loop\n",
    "\n",
    "# take inputs\n",
    "num1 = int(input('Enter first number: '))\n",
    "num2 = int(input('Enter second number: '))\n",
    "\n",
    "# calculate product\n",
    "product = 0\n",
    "for i in range(1,num2+1):\n",
    "    product=product+num1\n",
    "\n",
    "# print multiplication value\n",
    "print(\"The Product of Number:\", product)"
   ]
  }
 ],
 "metadata": {
  "kernelspec": {
   "display_name": "knl_pythagen",
   "language": "python",
   "name": "knl_pythagen"
  },
  "language_info": {
   "codemirror_mode": {
    "name": "ipython",
    "version": 3
   },
   "file_extension": ".py",
   "mimetype": "text/x-python",
   "name": "python",
   "nbconvert_exporter": "python",
   "pygments_lexer": "ipython3",
   "version": "3.12.0"
  }
 },
 "nbformat": 4,
 "nbformat_minor": 2
}
