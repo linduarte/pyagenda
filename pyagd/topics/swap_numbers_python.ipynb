{
 "cells": [
  {
   "cell_type": "markdown",
   "metadata": {},
   "source": [
    "#### Program to Swap Two Numbers"
   ]
  },
  {
   "cell_type": "code",
   "execution_count": 1,
   "metadata": {},
   "outputs": [
    {
     "name": "stdout",
     "output_type": "stream",
     "text": [
      "Values Before Swapping\n",
      "a =  10 and b =  9\n",
      "Values After Swapping\n",
      "a =  9 and b =  10\n"
     ]
    }
   ],
   "source": [
    "# Python program to swap two variables using temporary variable\n",
    "\n",
    "# take inputs\n",
    "a = input('Enter the value of a: ')\n",
    "b = input('Enter the value of b: ')\n",
    "\n",
    "print('Values Before Swapping')\n",
    "print('a = ',a, 'and b = ',b)\n",
    "\n",
    "# create a temporary variable and swap the value\n",
    "temp = a\n",
    "a = b\n",
    "b = temp\n",
    "\n",
    "# display swapping values\n",
    "print('Values After Swapping')\n",
    "print('a = ',a, 'and b = ',b)"
   ]
  },
  {
   "cell_type": "code",
   "execution_count": 2,
   "metadata": {},
   "outputs": [
    {
     "name": "stdout",
     "output_type": "stream",
     "text": [
      "Values Before Swapping\n",
      "a =  8 and b =  5\n",
      "Values After Swapping\n",
      "a =  5 and b =  8\n"
     ]
    }
   ],
   "source": [
    "# Python program to swap two numbers \n",
    "# without using temporary variable\n",
    "\n",
    "# take inputs\n",
    "a = input('Enter the value of a: ')\n",
    "b = input('Enter the value of b: ')\n",
    "\n",
    "print('Values Before Swapping')\n",
    "print('a = ',a, 'and b = ',b)\n",
    "\n",
    "# swap the value\n",
    "a, b = b, a\n",
    "\n",
    "# display swapping values\n",
    "print('Values After Swapping')\n",
    "print('a = ',a, 'and b = ',b)"
   ]
  },
  {
   "cell_type": "code",
   "execution_count": 3,
   "metadata": {},
   "outputs": [
    {
     "name": "stdout",
     "output_type": "stream",
     "text": [
      "Values Before Swapping\n",
      "a =  12.0 and b =  15.0\n",
      "Values After Swapping\n",
      "a =  15.0 and b =  12.0\n"
     ]
    }
   ],
   "source": [
    "# Python program to swap two numbers using + and – operator\n",
    "\n",
    "# take inputs\n",
    "a = float(input('Enter the value of a: '))\n",
    "b = float(input('Enter the value of b: '))\n",
    "\n",
    "print('Values Before Swapping')\n",
    "print('a = ',a, 'and b = ',b)\n",
    "\n",
    "# swapping of the numbers\n",
    "a = a + b\n",
    "b = a - b\n",
    "a = a - b\n",
    "\n",
    "# display swapping values\n",
    "print('Values After Swapping')\n",
    "print('a = ',a, 'and b = ',b)"
   ]
  },
  {
   "cell_type": "code",
   "execution_count": 4,
   "metadata": {},
   "outputs": [
    {
     "name": "stdout",
     "output_type": "stream",
     "text": [
      "Values Before Swapping\n",
      "a =  12.9 and b =  13.7\n",
      "Values After Swapping\n",
      "a =  13.7 and b =  12.9\n"
     ]
    }
   ],
   "source": [
    "# Python program to swap two numbers using * and / operator\n",
    "\n",
    "# take inputs\n",
    "a = float(input('Enter the value of a: '))\n",
    "b = float(input('Enter the value of b: '))\n",
    "\n",
    "print('Values Before Swapping')\n",
    "print('a = ',a, 'and b = ',b)\n",
    "\n",
    "# swapping of the numbers\n",
    "a = a * b\n",
    "b = a / b\n",
    "a = a / b\n",
    "\n",
    "# display swapping values\n",
    "print('Values After Swapping')\n",
    "print('a = ',a, 'and b = ',b)"
   ]
  },
  {
   "cell_type": "code",
   "execution_count": 5,
   "metadata": {},
   "outputs": [
    {
     "name": "stdout",
     "output_type": "stream",
     "text": [
      "Values Before Swapping\n",
      "a =  9 and b =  6\n",
      "Values After Swapping\n",
      "a =  6 and b =  9\n"
     ]
    }
   ],
   "source": [
    "# Python program to swap two numbers using XOR operator\n",
    "\n",
    "# take inputs\n",
    "a = int(input('Enter the value of a: '))\n",
    "b = int(input('Enter the value of b: '))\n",
    "\n",
    "print('Values Before Swapping')\n",
    "print('a = ',a, 'and b = ',b)\n",
    "\n",
    "# swapping of the numbers\n",
    "a = a ^ b\n",
    "b = a ^ b\n",
    "a = a ^ b\n",
    "\n",
    "# display swapping values\n",
    "print('Values After Swapping')\n",
    "print('a = ',a, 'and b = ',b)"
   ]
  },
  {
   "cell_type": "code",
   "execution_count": 6,
   "metadata": {},
   "outputs": [
    {
     "name": "stdout",
     "output_type": "stream",
     "text": [
      "Values Before Swapping\n",
      "a =  5 and b =  13\n",
      "Values After Swapping\n",
      "a =  13 and b =  5\n"
     ]
    }
   ],
   "source": [
    "# Python program to swap two numbers using \n",
    "# bitwise and arithmetic operators\n",
    "\n",
    "# take inputs\n",
    "a = int(input('Enter the value of a: '))\n",
    "b = int(input('Enter the value of b: '))\n",
    "\n",
    "print('Values Before Swapping')\n",
    "print('a = ',a, 'and b = ',b)\n",
    "\n",
    "# swapping of the numbers\n",
    "a = (a & b) + (a | b)\n",
    "b = a + (~b) + 1\n",
    "a = a + (~b) + 1\n",
    "\n",
    "# display swapping values\n",
    "print('Values After Swapping')\n",
    "print('a = ',a, 'and b = ',b)"
   ]
  }
 ],
 "metadata": {
  "kernelspec": {
   "display_name": "knl_pythagen",
   "language": "python",
   "name": "knl_pythagen"
  },
  "language_info": {
   "codemirror_mode": {
    "name": "ipython",
    "version": 3
   },
   "file_extension": ".py",
   "mimetype": "text/x-python",
   "name": "python",
   "nbconvert_exporter": "python",
   "pygments_lexer": "ipython3",
   "version": "3.12.0"
  }
 },
 "nbformat": 4,
 "nbformat_minor": 2
}
