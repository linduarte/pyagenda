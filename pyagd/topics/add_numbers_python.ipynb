{
 "cells": [
  {
   "cell_type": "markdown",
   "metadata": {},
   "source": [
    "#### Add two numbers in Python"
   ]
  },
  {
   "cell_type": "code",
   "execution_count": 1,
   "metadata": {},
   "outputs": [
    {
     "name": "stdout",
     "output_type": "stream",
     "text": [
      "5 + 10 = 15\n"
     ]
    }
   ],
   "source": [
    "# python program to add two numbers\n",
    "\n",
    "# take inputs\n",
    "num1 = 5\n",
    "num2 = 10\n",
    "\n",
    "# add two numbers\n",
    "sum = num1 + num2\n",
    "\n",
    "# displaying the addition result\n",
    "print('{0} + {1} = {2}'.format(num1, num2, sum))\n"
   ]
  },
  {
   "cell_type": "code",
   "execution_count": 2,
   "metadata": {},
   "outputs": [
    {
     "name": "stdout",
     "output_type": "stream",
     "text": [
      "The sum of numbers 34 and 56 is 90.0\n"
     ]
    }
   ],
   "source": [
    "# python program to add two numbers with user input\n",
    "\n",
    "# store input numbers\n",
    "num1 = input('Enter First Number: ')\n",
    "num2 = input('Enter Second Number: ')\n",
    "\n",
    "# add two numbers\n",
    "# User might also enter float numbers\n",
    "sum = float(num1) + float(num2)\n",
    "\n",
    "# displaying the adding result\n",
    "# value will print in float\n",
    "print('The sum of numbers {0} and {1} is {2}'\n",
    "                      .format(num1, num2, sum))"
   ]
  },
  {
   "cell_type": "code",
   "execution_count": 3,
   "metadata": {},
   "outputs": [
    {
     "name": "stdout",
     "output_type": "stream",
     "text": [
      "The sum of numbers 23.7 and 64.8 is 88.5\n"
     ]
    }
   ],
   "source": [
    "# Python program to add two numbers using function\n",
    "\n",
    "def add_num(a,b):   #user-defined function\n",
    "    sum = a + b   #adding numbers\n",
    "    return sum   #return value\n",
    "\n",
    "# take input\n",
    "num1 = float(input('Enter first number : '))\n",
    "num2 = float(input('Enter second number : '))\n",
    "\n",
    "# function call\n",
    "print('The sum of numbers {0} and {1} is {2}'\n",
    "       .format(num1, num2, add_num(num1, num2)))"
   ]
  },
  {
   "cell_type": "code",
   "execution_count": 4,
   "metadata": {},
   "outputs": [
    {
     "name": "stdout",
     "output_type": "stream",
     "text": [
      "The sum is 64.00\n"
     ]
    }
   ],
   "source": [
    "# Python program to add two numbers in one line\n",
    "# Without using any variables\n",
    "\n",
    "print('The sum is %.2f' %(float(input('Enter First Number: ')) \n",
    "                       + float(input('Enter Second Number: '))))"
   ]
  },
  {
   "cell_type": "code",
   "execution_count": 5,
   "metadata": {},
   "outputs": [
    {
     "name": "stdout",
     "output_type": "stream",
     "text": [
      "The sum of numbers 43.7 and 12.9 is 56.6\n"
     ]
    }
   ],
   "source": [
    "# Python program to add two numbers without using + operator\n",
    "\n",
    "def add_num(a,b):   #user-defined function\n",
    "   if a!=b:\n",
    "      return (a*a-b*b)/(a-b)\n",
    "   else:\n",
    "      return 2*a\n",
    "\n",
    "# take inputs\n",
    "num1 = float(input('Enter first number: '))\n",
    "num2 = float(input('Enter second number: '))\n",
    "\n",
    "# calling function\n",
    "sum = add_num(num1, num2)\n",
    "\n",
    "# print sum of numbers\n",
    "print('The sum of numbers {0} and {1} is {2}'\n",
    "                      .format(num1, num2, sum))"
   ]
  },
  {
   "cell_type": "code",
   "execution_count": 6,
   "metadata": {},
   "outputs": [
    {
     "name": "stdout",
     "output_type": "stream",
     "text": [
      "The sum of numbers 35 and 25 is 60\n"
     ]
    }
   ],
   "source": [
    "# Python program to add two numbers without using + operator\n",
    "\n",
    "def add_num(a,b):   #user-defined function\n",
    "   while b != 0:\n",
    "      c = a & b   #using and operator\n",
    "      a = a ^ b   #using XOR operator\n",
    "      b = c << 1\n",
    "   return a\n",
    "\n",
    "# take inputs\n",
    "num1 = int(input('Enter first number: '))\n",
    "num2 = int(input('Enter second number: '))\n",
    "\n",
    "# calling function\n",
    "sum = add_num(num1, num2)\n",
    "\n",
    "# print sum of numbers\n",
    "print('The sum of numbers {0} and {1} is {2}'\n",
    "                      .format(num1, num2, sum))"
   ]
  }
 ],
 "metadata": {
  "kernelspec": {
   "display_name": "knl_pyag",
   "language": "python",
   "name": "knl_pyag"
  },
  "language_info": {
   "codemirror_mode": {
    "name": "ipython",
    "version": 3
   },
   "file_extension": ".py",
   "mimetype": "text/x-python",
   "name": "python",
   "nbconvert_exporter": "python",
   "pygments_lexer": "ipython3",
   "version": "3.12.0"
  }
 },
 "nbformat": 4,
 "nbformat_minor": 2
}
