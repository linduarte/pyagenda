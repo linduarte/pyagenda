{
 "cells": [
  {
   "cell_type": "markdown",
   "metadata": {},
   "source": [
    "#### Program to Find Average of Two Numbers"
   ]
  },
  {
   "cell_type": "code",
   "execution_count": 1,
   "metadata": {},
   "outputs": [
    {
     "name": "stdout",
     "output_type": "stream",
     "text": [
      "The average of numbers = 15.00\n"
     ]
    }
   ],
   "source": [
    "# Python program to find average of two numbers\n",
    "\n",
    "# first number\n",
    "num1 = 10\n",
    "# second number\n",
    "num2 = 20\n",
    "\n",
    "# calculate average of those numbers\n",
    "avg = (num1 + num2) / 2\n",
    "\n",
    "# print average value\n",
    "print('The average of numbers = %0.2f' %avg)"
   ]
  },
  {
   "cell_type": "code",
   "execution_count": 2,
   "metadata": {},
   "outputs": [
    {
     "name": "stdout",
     "output_type": "stream",
     "text": [
      "The average of numbers = 65.80\n"
     ]
    }
   ],
   "source": [
    "# Python program to find average of two numbers\n",
    "\n",
    "# take inputs\n",
    "num1 = float(input('Enter first number: '))\n",
    "num2 = float(input('Enter second number: '))\n",
    "\n",
    "# calculate average of those numbers\n",
    "avg = (num1 + num2) / 2\n",
    "\n",
    "# print average value\n",
    "print('The average of numbers = %0.2f' %avg)"
   ]
  },
  {
   "cell_type": "code",
   "execution_count": 3,
   "metadata": {},
   "outputs": [
    {
     "name": "stdout",
     "output_type": "stream",
     "text": [
      "The average of numbers = 16.80\n"
     ]
    }
   ],
   "source": [
    "# Python program to find average of two numbers using function\n",
    "\n",
    "def avg_num(num1, num2):   #user-defined function\n",
    "    avg = (num1 + num2) / 2   #calculate average\n",
    "    return avg    #return value\n",
    "\n",
    "# take inputs\n",
    "num1 = float(input('Enter first number: '))\n",
    "num2 = float(input('Enter second number: '))\n",
    "\n",
    "# function call\n",
    "average = avg_num(num1, num2)\n",
    "\n",
    "# display result\n",
    "print('The average of numbers = %0.2f' %average)"
   ]
  },
  {
   "cell_type": "code",
   "execution_count": 4,
   "metadata": {},
   "outputs": [
    {
     "name": "stdout",
     "output_type": "stream",
     "text": [
      "Average of numbers = 17.15\n"
     ]
    }
   ],
   "source": [
    "# Python program to find the average of two numbers\n",
    "\n",
    "# denotes total sum of numbers\n",
    "total_sum = 0\n",
    "\n",
    "for n in range (2):\n",
    "    # take inputs\n",
    "    num = float(input('Enter number: '))\n",
    "    # calculate total sum of numbers\n",
    "    total_sum += num\n",
    "\n",
    "# calculate average of numbers\n",
    "avg = total_sum / 2\n",
    "\n",
    "# print average value\n",
    "print('Average of numbers = %0.2f' %avg)"
   ]
  }
 ],
 "metadata": {
  "kernelspec": {
   "display_name": "knl_pythagen",
   "language": "python",
   "name": "knl_pythagen"
  },
  "language_info": {
   "codemirror_mode": {
    "name": "ipython",
    "version": 3
   },
   "file_extension": ".py",
   "mimetype": "text/x-python",
   "name": "python",
   "nbconvert_exporter": "python",
   "pygments_lexer": "ipython3",
   "version": "3.12.0"
  }
 },
 "nbformat": 4,
 "nbformat_minor": 2
}
