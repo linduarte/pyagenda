{
 "cells": [
  {
   "cell_type": "markdown",
   "metadata": {},
   "source": [
    "#### Calculate Compound Interest in Python"
   ]
  },
  {
   "cell_type": "code",
   "execution_count": 1,
   "metadata": {},
   "outputs": [
    {
     "name": "stdout",
     "output_type": "stream",
     "text": [
      "Compound interest = 641.94\n",
      "Total amount = 1641.94\n"
     ]
    }
   ],
   "source": [
    "# Write a Python program to find compound interest on an amount.\n",
    "principal = 1000\n",
    "rate = 10\n",
    "time = 5\n",
    "number = 6\n",
    "\n",
    "rate = rate/100\n",
    "amount = principal * pow( 1+(rate/number), number*time)\n",
    "ci = amount - principal\n",
    "\n",
    "print('Compound interest = %.2f' %ci)\n",
    "print('Total amount = %.2f' %amount)"
   ]
  },
  {
   "cell_type": "code",
   "execution_count": 3,
   "metadata": {},
   "outputs": [
    {
     "name": "stdout",
     "output_type": "stream",
     "text": [
      "Compound interest = 133.00\n",
      "Total amount = 1133.00\n"
     ]
    }
   ],
   "source": [
    "# Python program to find compound interest\n",
    "\n",
    "# store the inputs\n",
    "principal = float(input('Enter principal amount: '))\n",
    "rate = float(input('Enter the interest rate: '))\n",
    "time = float(input('Enter time (in years): '))\n",
    "number = float(input('Enter the number of times that interest is compounded per year: '))\n",
    "\n",
    "# convert rate\n",
    "rate = rate/100\n",
    "\n",
    "# calculate total amount\n",
    "amount = principal * pow( 1+(rate/number), number*time)\n",
    "# calculate compound interest\n",
    "ci = amount - principal\n",
    "\n",
    "# display result\n",
    "print('Compound interest = %.2f' %ci)\n",
    "print('Total amount = %.2f' %amount)"
   ]
  },
  {
   "cell_type": "code",
   "execution_count": 4,
   "metadata": {},
   "outputs": [
    {
     "name": "stdout",
     "output_type": "stream",
     "text": [
      "Compound interest = 477.36\n",
      "Total amount = 2977.36\n"
     ]
    }
   ],
   "source": [
    "# Python program to calculate compound interest using function\n",
    "\n",
    "def compound_interest(principal, rate, time, number):\n",
    "    # calculate total amount\n",
    "    amount = principal * pow( 1+(rate/number), number*time)\n",
    "    return amount;\n",
    "\n",
    "# store the inputs\n",
    "principal = float(input('Enter principal amount: '))\n",
    "rate = float(input('Enter the interest rate: '))\n",
    "time = float(input('Enter time (in years): '))\n",
    "number = float(input('Enter the number of times that interest is compounded per year: '))\n",
    "\n",
    "# convert rate\n",
    "rate = rate/100\n",
    "\n",
    "# calling function \n",
    "amount = compound_interest(principal, rate, time, number)\n",
    "# calculate compound interest\n",
    "ci = amount - principal\n",
    "\n",
    "# display result\n",
    "print('Compound interest = %.2f' %ci)\n",
    "print('Total amount = %.2f' %amount)"
   ]
  }
 ],
 "metadata": {
  "kernelspec": {
   "display_name": "knl_pythagen",
   "language": "python",
   "name": "knl_pythagen"
  },
  "language_info": {
   "codemirror_mode": {
    "name": "ipython",
    "version": 3
   },
   "file_extension": ".py",
   "mimetype": "text/x-python",
   "name": "python",
   "nbconvert_exporter": "python",
   "pygments_lexer": "ipython3",
   "version": "3.12.0"
  }
 },
 "nbformat": 4,
 "nbformat_minor": 2
}
